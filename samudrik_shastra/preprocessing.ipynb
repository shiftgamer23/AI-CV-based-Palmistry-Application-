{
 "cells": [
  {
   "cell_type": "code",
   "execution_count": 5,
   "id": "3052b2b2",
   "metadata": {},
   "outputs": [
    {
     "name": "stdout",
     "output_type": "stream",
     "text": [
      "Length of raw text: 592564\n",
      "First 500 chars:\n",
      " Chapter I \n",
      "\n",
      "\n",
      "CHEIROGNOMY OR THE SHAPE OF THE HANDS AND \n",
      "\n",
      "FINGERS \n",
      "\n",
      "Of all the living things on earth man is the most complex; \n",
      "and of his limbs the hands are the most wonderful. The hands \n",
      "have been able to make the most wonderful machines; but \n",
      "he himself could never invent a better and more useful thing \n",
      "than his own hand. Close examination of the shape, signs, \n",
      "marks and lines on the hand can reveal nature, health and \n",
      "mental tendencies and destiny, as has been established by \n",
      "modem writers. \n"
     ]
    }
   ],
   "source": [
    "with open(\"samudrik.txt\", \"r\", encoding=\"utf-8\") as f:\n",
    "    raw_text = f.read()\n",
    "\n",
    "print(\"Length of raw text:\", len(raw_text))\n",
    "print(\"First 500 chars:\\n\", raw_text[:500])"
   ]
  },
  {
   "cell_type": "code",
   "execution_count": 10,
   "id": "d622c2a5",
   "metadata": {},
   "outputs": [
    {
     "name": "stdout",
     "output_type": "stream",
     "text": [
      "Length raw: 592564\n",
      "Length cleaned: 573634\n",
      "\n",
      "Preview cleaned:\n",
      "\n",
      "Chapter I CHEIROGNOMY OR THE SHAPE OF THE HANDS AND FINGERS Of all the living things on earth man is the most complex; and of his limbs the hands are the most wonderful. The hands have been able to make the most wonderful machines; but he himself could never invent a better and more useful thing than his own hand. Close examination of the shape, signs, marks and lines on the hand can reveal nature, health and mental tendencies and destiny, as has been established by modem writers. For the hand is the humble servant of the brain, and there is an intimate connection between its centres and the h\n"
     ]
    }
   ],
   "source": [
    "import re\n",
    "import spacy\n",
    "\n",
    "nlp = spacy.load(\"en_core_web_sm\")\n",
    "\n",
    "def clean_and_paragraphize(text):\n",
    "    # Fix hyphenated line breaks\n",
    "    text = re.sub(r'(\\w+)-\\s*\\n\\s*(\\w+)', r'\\1\\2', text)\n",
    "\n",
    "    # Replace all newlines with spaces (reset structure first)\n",
    "    text = text.replace(\"\\n\", \" \")\n",
    "\n",
    "    # Remove weird OCR characters\n",
    "    text = re.sub(r'[^\\w\\s.,;:!?()\\-]', '', text)\n",
    "\n",
    "    # Normalize spaces\n",
    "    text = re.sub(r'\\s+', ' ', text).strip()\n",
    "\n",
    "    # Use SpaCy to split into sentences\n",
    "    doc = nlp(text)\n",
    "    sentences = [sent.text.strip() for sent in doc.sents]\n",
    "\n",
    "    # Rebuild text into paragraphs:\n",
    "    # - If sentence looks like a heading (\"(Ill) Colour of the Palm\")\n",
    "    #   start a new paragraph\n",
    "    cleaned_paragraphs = []\n",
    "    current_para = []\n",
    "    for sent in sentences:\n",
    "        if re.match(r'^\\(?[IVXLC]+\\)?\\s', sent) or \"Colour of the Palm\" in sent:\n",
    "            # start new paragraph\n",
    "            if current_para:\n",
    "                cleaned_paragraphs.append(\" \".join(current_para))\n",
    "                current_para = []\n",
    "            cleaned_paragraphs.append(sent)  # heading as its own line\n",
    "        else:\n",
    "            current_para.append(sent)\n",
    "    if current_para:\n",
    "        cleaned_paragraphs.append(\" \".join(current_para))\n",
    "\n",
    "    # Join paragraphs with double newlines\n",
    "    return \"\\n\\n\".join(cleaned_paragraphs)\n",
    "\n",
    "# Example usage\n",
    "with open(\"samudrik.txt\", \"r\", encoding=\"utf-8\") as f:\n",
    "    raw_text = f.read()\n",
    "\n",
    "cleaned_text = clean_and_paragraphize(raw_text)\n",
    "\n",
    "with open(\"hasta_samudrik_cleaned.txt\", \"w\", encoding=\"utf-8\") as f:\n",
    "    f.write(cleaned_text)\n",
    "\n",
    "print(\"Length raw:\", len(raw_text))\n",
    "print(\"Length cleaned:\", len(cleaned_text))\n",
    "print(\"\\nPreview cleaned:\\n\")\n",
    "print(cleaned_text[:600])\n"
   ]
  }
 ],
 "metadata": {
  "kernelspec": {
   "display_name": "base",
   "language": "python",
   "name": "python3"
  },
  "language_info": {
   "codemirror_mode": {
    "name": "ipython",
    "version": 3
   },
   "file_extension": ".py",
   "mimetype": "text/x-python",
   "name": "python",
   "nbconvert_exporter": "python",
   "pygments_lexer": "ipython3",
   "version": "3.12.7"
  }
 },
 "nbformat": 4,
 "nbformat_minor": 5
}
